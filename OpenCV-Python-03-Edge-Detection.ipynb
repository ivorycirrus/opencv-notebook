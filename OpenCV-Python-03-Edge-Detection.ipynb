{
 "cells": [
  {
   "cell_type": "markdown",
   "metadata": {},
   "source": [
    "# 3. 경계 검출 (Edge detection)\n",
    "* **3.1 영상 이진화** : Simple/Adaptive/Otsu Thresholding\n",
    "* **3.2 형상변환** : Erosion, Dilation, Opening, Closing\n",
    "* **3.3 그래디언트** : Sobel/Scharr, Laplacian\n",
    "\n",
    "## 3.1 영상 이진화 (Thresholding/Binarization)\n",
    "\n",
    "### Simple Thresholding\n",
    "* 픽셀의 값이 경계값을 넘을 경우 최대값으로 변롼함. 결과적으로 흑/백으로 변환함\n",
    "* `cv2.threshold(원본이미지, 경계값, 최대값, 스타일)` 함수를 이용함\n",
    "* 스타일 : `THRESH_BINARY`, `THRESH_BINARY_INV`, `THRESH_TRUNC`, `THRESH_TOZERO`, `THRESH_TOZERO_INV`\n",
    "* 반환값1 : threashold값(otsu에서활용, 다른스타일의경우 입력한 경계값고정)\n",
    "* 반환값2 : 경게값처리된 이미지\n",
    "![threshold types](https://docs.opencv.org/4.0.1/threshold.png)"
   ]
  },
  {
   "cell_type": "code",
   "execution_count": null,
   "metadata": {},
   "outputs": [],
   "source": [
    "%matplotlib inline\n",
    "import cv2\n",
    "import numpy as np\n",
    "from matplotlib import pyplot as plt\n",
    "\n",
    "img = cv2.imread('images/black.jpg')\n",
    "ret,thresh1 = cv2.threshold(img,127,255,cv2.THRESH_BINARY)\n",
    "ret,thresh2 = cv2.threshold(img,127,255,cv2.THRESH_BINARY_INV)\n",
    "ret,thresh3 = cv2.threshold(img,127,255,cv2.THRESH_TRUNC)\n",
    "ret,thresh4 = cv2.threshold(img,127,255,cv2.THRESH_TOZERO)\n",
    "ret,thresh5 = cv2.threshold(img,127,255,cv2.THRESH_TOZERO_INV)\n",
    "\n",
    "titles = ['Original Image','BINARY','BINARY_INV','TRUNC','TOZERO','TOZERO_INV']\n",
    "images = [img, thresh1, thresh2, thresh3, thresh4, thresh5]\n",
    "\n",
    "fig = plt.figure(figsize=(15,9))\n",
    "for i in range(6): \n",
    "    ax = fig.add_subplot(2, 3, i+1)\n",
    "    ax.imshow(images[i],'gray') \n",
    "    ax.set_title(titles[i]) \n",
    "    ax.axis('off')\n",
    "    \n",
    "plt.show()"
   ]
  },
  {
   "cell_type": "markdown",
   "metadata": {},
   "source": [
    "### Adaptive Thresholding\n",
    "* 하나이상의 경계값을 사용할 경우 효과가 좋음 (하나의 이미지에 다수의 조명상태가 존재하는경우)\n",
    "* 영상을 구획별로 잘라서, 구획별로 다른 경계값을 적용함\n",
    "* `cv2.threshold(원본이미지, 경계값, 최대값, 적응형스타일, 구획의이진화스타일, 구획크기, 가중치조정범위)`\n",
    "* 적응형스타일 : `cv2.ADAPTIVE_THRESH_MEAN_C`(주변의평균값 사용), `cv2.ADAPTIVE_THRESH_GAUSSIAN_C`(주변에 가우시간가중치 적용한 합 사용)"
   ]
  },
  {
   "cell_type": "code",
   "execution_count": null,
   "metadata": {},
   "outputs": [],
   "source": [
    "%matplotlib inline\n",
    "import cv2\n",
    "import numpy as np\n",
    "from matplotlib import pyplot as plt\n",
    "\n",
    "img = cv2.imread('images/shadow_text.png')\n",
    "img = cv2.cvtColor(img, cv2.COLOR_BGR2GRAY)\n",
    "img = cv2.medianBlur(img, 5)\n",
    "\n",
    "ret,th1 = cv2.threshold(img,127,255,cv2.THRESH_BINARY)\n",
    "th2 = cv2.adaptiveThreshold(img,255,cv2.ADAPTIVE_THRESH_MEAN_C, cv2.THRESH_BINARY,11,2)\n",
    "th3 = cv2.adaptiveThreshold(img,255,cv2.ADAPTIVE_THRESH_GAUSSIAN_C, cv2.THRESH_BINARY,11,2)\n",
    "titles = ['Original Image' \\\n",
    "          , 'Global Thresholding (v = 127)' \\\n",
    "          , 'Adaptive Mean Thresholding' \\\n",
    "          , 'Adaptive Gaussian Thresholding']\n",
    "\n",
    "fig = plt.figure(figsize=(20,10))\n",
    "images = [img, th1, th2, th3]\n",
    "for i in range(4):\n",
    "    ax = fig.add_subplot(2, 2, i+1)\n",
    "    ax.imshow(images[i],'gray') \n",
    "    ax.set_title(titles[i]) \n",
    "    ax.axis('off')\n",
    "    \n",
    "plt.show()"
   ]
  },
  {
   "cell_type": "markdown",
   "metadata": {},
   "source": [
    "### Otsu 이진화\n",
    "* 이미지 히스토그램의 피크 지점이 두개인경우(bimodal image) 두 피크점 사이를 임계값으로 잡아줌\n",
    "* `cv2.thresold()`함수의 첫번째 반환값이 조정된 임꼐값을 의미함\n",
    "* **이진화적용전 가우시안블러를 적용할 경우 노이즈 제거 효과를 얻을 수 있음**"
   ]
  },
  {
   "cell_type": "code",
   "execution_count": null,
   "metadata": {},
   "outputs": [],
   "source": [
    "%matplotlib inline\n",
    "import cv2\n",
    "import numpy as np \n",
    "from matplotlib import pyplot as plt \n",
    "\n",
    "img = cv2.imread('images/noise.png',0)\n",
    "\n",
    "# 단순 이진화\n",
    "ret1, th1 = cv2.threshold(img, 127, 255, cv2.THRESH_BINARY)\n",
    "\n",
    "# OTSU 이진화\n",
    "ret2, th2 = cv2.threshold(img, 0, 255, cv2.THRESH_BINARY+cv2.THRESH_OTSU)\n",
    "\n",
    "# 가우시안 블러 처리한 후 OTSU 이진화\n",
    "blur = cv2.GaussianBlur(img,(5,5),0)\n",
    "ret3, th3 = cv2.threshold(blur, 0, 255, cv2.THRESH_BINARY+cv2.THRESH_OTSU)\n",
    "\n",
    "# 임계값 출력\n",
    "print(\"Thresold 1 : \", ret1)\n",
    "print(\"Thresold 2 : \", ret2)\n",
    "print(\"Thresold 3 : \", ret3)\n",
    "\n",
    "# plot all the images and their histograms\n",
    "plt.figure(figsize=(16,12))\n",
    "images = [img, 0, th1, img, 0, th2, blur, 0, th3]\n",
    "titles = ['Original Noisy Image','Histogram','Global Thresholding (v=127)', 'Original Noisy Image','Histogram',\"Otsu's Thresholding\", 'Gaussian filtered Image','Histogram',\"Otsu's Thresholding\"]\n",
    "\n",
    "for i in range(3):\n",
    "    plt.subplot(3,3,i*3+1),plt.imshow(images[i*3],'gray')\n",
    "    plt.title(titles[i*3]), plt.xticks([]), plt.yticks([])\n",
    "    plt.subplot(3,3,i*3+2),plt.hist(images[i*3].ravel(),256)\n",
    "    plt.title(titles[i*3+1]), plt.xticks([]), plt.yticks([])\n",
    "    plt.subplot(3,3,i*3+3),plt.imshow(images[i*3+2],'gray')\n",
    "    plt.title(titles[i*3+2]), plt.xticks([]), plt.yticks([])\n",
    "\n",
    "plt.show()\n"
   ]
  },
  {
   "cell_type": "markdown",
   "metadata": {},
   "source": [
    "## 3.2 형상 변환(Morphological Transformations)\n",
    "\n",
    "### Erosion\n",
    "* 두꺼운 객체를 깍아내고 가지치기 하는 것\n",
    "* 각 Pixel에 structuring element를 적용하여 하나라도 0이 있으면 대상 pixel을 제거하는 방법\n",
    "* 커널 안에 0이 하나라도 있는 경우 0처리 해버리므로 **작은 노이즈가 삭제되는 효과**가 있음\n",
    "![erosion](https://opencv-python.readthedocs.io/en/latest/_images/image01.png)"
   ]
  },
  {
   "cell_type": "code",
   "execution_count": null,
   "metadata": {},
   "outputs": [],
   "source": [
    "%matplotlib inline\n",
    "import cv2\n",
    "from matplotlib import pyplot as plt\n",
    "import numpy as np\n",
    "\n",
    "img = cv2.imread('images/sudoku.jpg')\n",
    "img = cv2.cvtColor(img, cv2.COLOR_BGR2GRAY)\n",
    "ret1, img = cv2.threshold(img, 127, 255, cv2.THRESH_BINARY_INV)\n",
    "\n",
    "# Erosion\n",
    "kernel = np.ones((4,4),np.uint8)\n",
    "erosion = cv2.erode(img,kernel,iterations = 1)\n",
    "\n",
    "\n",
    "# 화면출력\n",
    "plt.figure(figsize=(20,8))\n",
    "images = [img, erosion]\n",
    "titles = ['Original','Erosion']\n",
    "for i in range(2):\n",
    "    plt.subplot(1,2,i+1),plt.imshow(images[i],'gray')\n",
    "    plt.title(titles[i]), plt.xticks([]), plt.yticks([])\n",
    "plt.show()"
   ]
  },
  {
   "cell_type": "markdown",
   "metadata": {},
   "source": [
    "### Dilation\n",
    "* 객체의 몸집을 불리는 효과로, 자잘한 구멍이 있는 경우 메워지는 효과\n",
    "* 곡선검출시 선이 중간에 끊어지는 것도 erosion을 이용해서 메꾸면 부드럽게 이어지는 효과를 볼 수 있음\n",
    "* 대상 pixel에 대해서 OR 연산을 수행합니다. 즉 겹치는 부분이 하나라도 있으면 이미지를 확장\n",
    "![dilation](https://opencv-python.readthedocs.io/en/latest/_images/image03.png)"
   ]
  },
  {
   "cell_type": "code",
   "execution_count": null,
   "metadata": {},
   "outputs": [],
   "source": [
    "%matplotlib inline\n",
    "import cv2\n",
    "from matplotlib import pyplot as plt\n",
    "import numpy as np\n",
    "\n",
    "img = cv2.imread('images/sudoku.jpg')\n",
    "img = cv2.cvtColor(img, cv2.COLOR_BGR2GRAY)\n",
    "ret1, img = cv2.threshold(img, 127, 255, cv2.THRESH_BINARY_INV)\n",
    "\n",
    "# Erosion\n",
    "kernel = np.ones((4,4),np.uint8)\n",
    "dilation = cv2.dilate(img,kernel,iterations = 1)\n",
    "\n",
    "# 화면출력\n",
    "plt.figure(figsize=(20,8))\n",
    "images = [img, dilation]\n",
    "titles = ['Original','Dilation']\n",
    "for i in range(2):\n",
    "    plt.subplot(1,2,i+1),plt.imshow(images[i],'gray')\n",
    "    plt.title(titles[i]), plt.xticks([]), plt.yticks([])\n",
    "plt.show()"
   ]
  },
  {
   "cell_type": "markdown",
   "metadata": {},
   "source": [
    "### Opening & Closing\n",
    "* Opening과 Closing은 Erosion과 Dilation의 조합 결과. 어느 것을 먼저 적용을 하는 차이\n",
    "* **Opeing** : Erosion적용 후 Dilation 적용. 작은 Object나 돌기 제거에 적합\n",
    "* **Closing** : Dilation적용 후 Erosion 적용. 전체적인 윤곽 파악에 적합"
   ]
  },
  {
   "cell_type": "code",
   "execution_count": null,
   "metadata": {},
   "outputs": [],
   "source": [
    "%matplotlib inline\n",
    "import cv2\n",
    "from matplotlib import pyplot as plt\n",
    "import numpy as np\n",
    "\n",
    "img = cv2.imread('images/sudoku.jpg')\n",
    "img = cv2.cvtColor(img, cv2.COLOR_BGR2GRAY)\n",
    "ret1, img = cv2.threshold(img, 127, 255, cv2.THRESH_BINARY_INV)\n",
    "\n",
    "# Kernel\n",
    "kernel = np.ones((4,4),np.uint8)\n",
    "\n",
    "# Opening : erode -> dilation (깍아내고 불림)\n",
    "opening = cv2.morphologyEx(img, cv2.MORPH_OPEN, kernel)\n",
    "\n",
    "# Closing : dilation -> erode (불리고 깍아냄)\n",
    "closing = cv2.morphologyEx(img, cv2.MORPH_CLOSE, kernel)\n",
    "\n",
    "# 화면출력\n",
    "plt.figure(figsize=(18,6))\n",
    "images = [img, opening, closing]\n",
    "titles = ['Original','Open','Close']\n",
    "for i in range(3):\n",
    "    plt.subplot(1,3,i+1),plt.imshow(images[i],'gray')\n",
    "    plt.title(titles[i]), plt.xticks([]), plt.yticks([])\n",
    "plt.show()"
   ]
  },
  {
   "cell_type": "markdown",
   "metadata": {},
   "source": [
    "### Morphological Gradient, Top Hat, Black Hat\n",
    "* Morphological Gradient : dilation과 erosion의 차이\n",
    "* Top Hat : 원본이미지와 open의 차이\n",
    "* Black Hat : 원본이미지와 close의 차이"
   ]
  },
  {
   "cell_type": "code",
   "execution_count": null,
   "metadata": {},
   "outputs": [],
   "source": [
    "%matplotlib inline\n",
    "import cv2\n",
    "from matplotlib import pyplot as plt\n",
    "import numpy as np\n",
    "\n",
    "img = cv2.imread('images/sudoku.jpg')\n",
    "img = cv2.cvtColor(img, cv2.COLOR_BGR2GRAY)\n",
    "ret1, img = cv2.threshold(img, 127, 255, cv2.THRESH_BINARY_INV)\n",
    "\n",
    "kernel = np.ones((4,4),np.uint8)\n",
    "gradient = cv2.morphologyEx(img, cv2.MORPH_GRADIENT, kernel)\n",
    "tophat = cv2.morphologyEx(img, cv2.MORPH_TOPHAT, kernel)\n",
    "blackhat = cv2.morphologyEx(img, cv2.MORPH_BLACKHAT, kernel)\n",
    "\n",
    "# 화면출력\n",
    "plt.figure(figsize=(18,10))\n",
    "images = [img, None, None, gradient, tophat, blackhat]\n",
    "titles = ['Original','', '', 'Gradient','Top Hat', 'Black Hat']\n",
    "for i in range(6):\n",
    "    if(images[i] is None): continue\n",
    "    plt.subplot(2,3,i+1),plt.imshow(images[i],'gray')\n",
    "    plt.title(titles[i]), plt.xticks([]), plt.yticks([])\n",
    "plt.show()"
   ]
  },
  {
   "cell_type": "markdown",
   "metadata": {},
   "source": [
    "## 3.3 그래디언트 (Image Gradient)\n",
    "\n",
    "### Sobel and Scharr Derivatives\n",
    "* Sobel 연산은 가우시안 스무딩과 미분 연산을 결합한 것으로 노이즈 저항성이 강함\n",
    "* 가로방향, 세로방향의 미분을 구할 수 있음\n",
    "* 커널크기를 -1로 주면 Sobel필터가 아닌 Scharr필터를 적용함\n",
    "* `cv2.Sobel(원본, 색상심도(ddepth), x방향미분차수(dx), y방향미분차수(dy) , 커널크기(ksize))`\n",
    "\n",
    "### Laplacian Derivatives\n",
    "* Sobel필터에 라플라시안(dx와 dy가 2인 미분)을 취한 것\n",
    "* blob(주위의 pixel과 확연한 picel차이를 나타내는 덩어리)검출에 많이 사용됨\n",
    "\n",
    "### 주의사항\n",
    "* Sobel 알고리즘은 이미지가 검정->흰색 으로 변할때 양수값을, 흰색->검정 으로 변할때 음수값을 취함\n",
    "* 이미지의 데이터 유형을 `cv2.CV_U8` 또는 `np.uint8`과 같이 양수만 취급하는 데이터유형의 경우 흰색->검정의 변화를 찾지못함\n",
    "* 따라서 데이터 부호없는 데이터 유형은 `cv.CV_16S`, `cv.CV_64F`와 같은 상위 데이터 타입으로 변환해서 계산후 후처리를 해야 함"
   ]
  },
  {
   "cell_type": "code",
   "execution_count": null,
   "metadata": {
    "scrolled": false
   },
   "outputs": [],
   "source": [
    "%matplotlib inline\n",
    "import cv2\n",
    "from matplotlib import pyplot as plt\n",
    "import numpy as np\n",
    "\n",
    "img = cv2.imread('images/sudoku.jpg')\n",
    "img = cv2.cvtColor(img, cv2.COLOR_BGR2GRAY)\n",
    "\n",
    "laplacian = cv2.Laplacian(img,cv2.CV_64F)\n",
    "sobelx = cv2.Sobel(img,cv2.CV_64F,1,0,ksize=5)\n",
    "sobely = cv2.Sobel(img,cv2.CV_64F,0,1,ksize=5)\n",
    "\n",
    "# 화면출력\n",
    "plt.figure(figsize=(18,14))\n",
    "images = [img, laplacian, sobelx, sobely]\n",
    "titles = ['Original', 'Laplacian','Sobel-X', 'Sobel-Y']\n",
    "for i in range(4):\n",
    "    if(images[i] is None): continue\n",
    "    plt.subplot(2,2,i+1),plt.imshow(images[i],'gray')\n",
    "    plt.title(titles[i]), plt.xticks([]), plt.yticks([])\n",
    "plt.show()"
   ]
  },
  {
   "cell_type": "markdown",
   "metadata": {},
   "source": [
    "## 3.4 Canny Edge Detection\n",
    "\n",
    "### 동작 방식\n",
    "1. **Noise Reduction** : 5x5의 Gaussian filter 이용한 노이즈 제거\n",
    "2. **Edge Gradient Detection** : 그래디언트값과 방향을 구함. 그래디언트 값이 급격하게 변하는 곳을 찾음\n",
    "3. **Non-maximum Suppression** : 경계(edge)가 아닌 영역은 제거 (0으로 만듬)\n",
    "4. **Hysteresis Thresholding** : 검출한 경계가 진짜 경계인지 임계값으로 걸러냄\n",
    "\n",
    "### 경계값 검출\n",
    "* `cv2.Canny(입력이미지, 경계값1, 경계값2[, apertureSize, L2gradient])`\n",
    "* apertureSize : 그래디언트를 찾기위한 Sobel 커널 크기, 기본값 3\n",
    "* L2gradient : 그래디언트 측정방법. 기본값 False. 맨하탄 거리측정방식 이용하려면 True로 설정함\u001b"
   ]
  },
  {
   "cell_type": "code",
   "execution_count": null,
   "metadata": {},
   "outputs": [],
   "source": [
    "%matplotlib inline\n",
    "import cv2\n",
    "import numpy as np\n",
    "from matplotlib import pyplot as plt\n",
    "\n",
    "img = cv2.imread('images/phone.jpg', cv2.IMREAD_GRAYSCALE)\n",
    "\n",
    "edges = cv2.Canny(img,100,200)\n",
    "\n",
    "plt.figure(figsize=(20,8))\n",
    "plt.subplot(121),plt.imshow(img,cmap = 'gray')\n",
    "plt.title('Original Image'), plt.xticks([]), plt.yticks([])\n",
    "plt.subplot(122),plt.imshow(edges,cmap = 'gray')\n",
    "plt.title('Edge Image'), plt.xticks([]), plt.yticks([])\n",
    "plt.show()"
   ]
  }
 ],
 "metadata": {
  "kernelspec": {
   "display_name": "Python 3",
   "language": "python",
   "name": "python3"
  },
  "language_info": {
   "codemirror_mode": {
    "name": "ipython",
    "version": 3
   },
   "file_extension": ".py",
   "mimetype": "text/x-python",
   "name": "python",
   "nbconvert_exporter": "python",
   "pygments_lexer": "ipython3",
   "version": "3.7.1"
  }
 },
 "nbformat": 4,
 "nbformat_minor": 2
}
