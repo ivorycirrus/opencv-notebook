{
 "cells": [
  {
   "cell_type": "markdown",
   "metadata": {},
   "source": [
    "# 2. 이미지 다루기\n",
    "* **2.1 색공간 변경**\n",
    "* **2.2 형태 변경** : Resize, Rotate, Transform\n",
    "* **2.3 블러** : Smoothing/Blur\n",
    "\n",
    "## 2.1  색공간 변경\n",
    "* `cv2.cvtColor()`, `cv2.inRange()` 등의 함수 이용\n",
    "* BGR - Gray , BGR - HSV 등의 색공간 변경가능\n",
    "\n",
    "### OpenCV에서 지원하는 변경가능 색공간 목록"
   ]
  },
  {
   "cell_type": "code",
   "execution_count": null,
   "metadata": {
    "scrolled": true
   },
   "outputs": [],
   "source": [
    "import cv2\n",
    "flags = [i for i in dir(cv2) if i.startswith('COLOR_')]\n",
    "print(flags)"
   ]
  },
  {
   "cell_type": "markdown",
   "metadata": {},
   "source": [
    "### 색공간 변경 예제\n",
    "* imread 로 읽어들인 기본 이미지는 BGR 형식의 색공간을 가진다. 화면에 표시하려면 RGB로 바꿀 필요가 있다.\n",
    "* gray로 변경한 경우 단일색상을 표현할 컬러맵을 지정하여 보일 수 있다.<br>\n",
    " 단순 회색색상이 아니라 사전정의된 팔레트를 사용하면 열적외선 카메라로 촬영된 이미지도 보기 쉽게 표시 할 수 있을 듯 함\n",
    "* 다양한 분석을 위해 사용할 수 있는 [HSV 색공간(색상/명도/채도 기반)](https://ko.wikipedia.org/wiki/HSV_%EC%83%89_%EA%B3%B5%EA%B0%84)도 알아두자"
   ]
  },
  {
   "cell_type": "code",
   "execution_count": null,
   "metadata": {
    "scrolled": false
   },
   "outputs": [],
   "source": [
    "%matplotlib inline\n",
    "import cv2\n",
    "from matplotlib import pyplot as plt\n",
    "\n",
    "img = cv2.imread('images/phone.jpg')\n",
    "\n",
    "# 가로16 * 세로12 패널 생성 \n",
    "fig = plt.figure(figsize=(16,12))\n",
    "\n",
    "# 원본 BGR이미지\n",
    "ax1 = fig.add_subplot(2, 2, 1)\n",
    "ax1.axis('off')\n",
    "ax1.set_title('Origin - BGR')\n",
    "ax1.imshow(img)\n",
    "\n",
    "# BGR to RGB\n",
    "img2 = cv2.cvtColor(img, cv2.COLOR_BGR2RGB)\n",
    "ax2 = fig.add_subplot(2, 2, 2)\n",
    "ax2.set_title('BGR to RGB')\n",
    "ax2.axis('off')\n",
    "ax2.imshow(img2)\n",
    "\n",
    "# BGR to Gray\n",
    "# 초록색상으로 이미지가 나오는 경우, matplotlib의 컬러맵을 회색색상으로 지정\n",
    "img3 = cv2.cvtColor(img, cv2.COLOR_BGR2GRAY)\n",
    "ax3 = fig.add_subplot(2, 2, 3)\n",
    "ax3.set_title('BGR to Gray')\n",
    "ax3.axis('off')\n",
    "ax3.imshow(img3, cmap=plt.get_cmap('gray'))\n",
    "\n",
    "# BGR to HSV\n",
    "img4 = cv2.cvtColor(img, cv2.COLOR_BGR2HSV)\n",
    "ax4 = fig.add_subplot(2, 2, 4)\n",
    "ax4.set_title('BGR to HSV')\n",
    "ax4.axis('off')\n",
    "ax4.imshow(img4)\n",
    "\n",
    "plt.show()"
   ]
  },
  {
   "cell_type": "markdown",
   "metadata": {},
   "source": [
    "### 물체 추적\n",
    "* 파란색 물체를 추출하는 샘플코드\n",
    "* 영상의 색공간을 HSV로 변환 후 파란색에 해당하는 Hue 110~130 영역을 마스킹으로 뽑아내어 원본영상에 덧씌움"
   ]
  },
  {
   "cell_type": "code",
   "execution_count": null,
   "metadata": {
    "scrolled": false
   },
   "outputs": [],
   "source": [
    "%pylab inline \n",
    "import cv2\n",
    "from IPython.display import clear_output\n",
    "from IPython.display import display\n",
    "import numpy as np\n",
    "\n",
    "try:\n",
    "    cap = cv2.VideoCapture(1)\n",
    "    while(1):\n",
    "        # Take each frame\n",
    "        _, frame = cap.read() \n",
    "\n",
    "        # Convert BGR to HSV\n",
    "        hsv = cv2.cvtColor(frame, cv2.COLOR_BGR2HSV)\n",
    "        rgb = cv2.cvtColor(frame, cv2.COLOR_BGR2RGB)\n",
    "\n",
    "        # define range of blue color in HSV\n",
    "        lower_blue = np.array([110,50,90])\n",
    "        upper_blue = np.array([130,255,255])\n",
    "\n",
    "        # Threshold the HSV image to get only blue colors\n",
    "        mask = cv2.inRange(hsv, lower_blue, upper_blue) \n",
    "\n",
    "        # Bitwise-AND mask and original image\n",
    "        res = cv2.bitwise_and(rgb,rgb, mask= mask)\n",
    "        \n",
    "        # Display the frame\n",
    "        figure(figsize=(12, 12))\n",
    "        imshow(res)\n",
    "        axis('off')\n",
    "        show()\n",
    "        # Display the frame until new frame is available\n",
    "        clear_output(wait=True)\n",
    "except KeyboardInterrupt:\n",
    "    # Release the Video Device\n",
    "    cap.release()\n"
   ]
  },
  {
   "cell_type": "markdown",
   "metadata": {},
   "source": [
    "## 2.2 이미지 형태 변경\n",
    "\n",
    "### 크기 변경\n",
    "* `cv2.resize()` 함수를 이용해서 크기 변경 가능\n",
    "* 보간방법(interpolation) 선택 가능 : `cv2.INTER_AREA`(축소), `cv2.INTER_CUBIC`(줌/느림), `cv2.INTER_LINEAR`(줌/기본값)"
   ]
  },
  {
   "cell_type": "code",
   "execution_count": null,
   "metadata": {},
   "outputs": [],
   "source": [
    "%matplotlib inline\n",
    "import cv2\n",
    "from matplotlib import pyplot as plt\n",
    "\n",
    "bgr = cv2.imread('images/phone.jpg')\n",
    "img = cv2.cvtColor(img, cv2.COLOR_BGR2RGB)\n",
    "\n",
    "## 원본이미지\n",
    "print(\"origin size : {}\".format(img.shape[:2]))\n",
    "\n",
    "## 확대방법 1\n",
    "res = cv2.resize(img,None,fx=2, fy=2, interpolation = cv2.INTER_CUBIC)\n",
    "print(\"res-1 size : {}\".format(res.shape[:2]))\n",
    "\n",
    "## 확대방법 2\n",
    "height, width = img.shape[:2]\n",
    "res2 = cv2.resize(img,(2*width, 2*height), interpolation = cv2.INTER_CUBIC)\n",
    "print(\"res-2 size : {}\".format(res2.shape[:2]))\n"
   ]
  },
  {
   "cell_type": "markdown",
   "metadata": {},
   "source": [
    "### 평행이동\n",
    "* `cv2.warpAffine()` 함수 이용\n",
    "* 원본이미지, 이미지변환행렬, 결과이미지 크기를 파라메터로 받음\n",
    "$$\n",
    "M = \\begin{bmatrix}\n",
    "1 & 0 & t_x\\\\ \n",
    "0 & 1 & t_y\n",
    "\\end{bmatrix}\n",
    "$$"
   ]
  },
  {
   "cell_type": "code",
   "execution_count": null,
   "metadata": {},
   "outputs": [],
   "source": [
    "%matplotlib inline\n",
    "import cv2\n",
    "from matplotlib import pyplot as plt\n",
    "import numpy as np\n",
    "\n",
    "bgr = cv2.imread('images/phone.jpg')\n",
    "img = cv2.cvtColor(bgr, cv2.COLOR_BGR2RGB)\n",
    "\n",
    "# 변환할 크기와 변환행렬\n",
    "rows,cols,_ = bgr.shape\n",
    "M = np.float32([[1,0,100],[0,1,50]])\n",
    "\n",
    "# 변환\n",
    "dst = cv2.warpAffine(img,M,(cols,rows))\n",
    "\n",
    "# 화면출력\n",
    "plt.figure(figsize=(8,6))\n",
    "plt.axis('off')\n",
    "plt.imshow(dst)\n",
    "plt.show()"
   ]
  },
  {
   "cell_type": "markdown",
   "metadata": {},
   "source": [
    "### 회전\n",
    "* 변환행렬을 구할 때 `cv2.getRotationMatrix2D` 함수 이용\n",
    "* 화전도 변환작업은 `cv2.warpAffine()` 함수 이용"
   ]
  },
  {
   "cell_type": "code",
   "execution_count": null,
   "metadata": {},
   "outputs": [],
   "source": [
    "%matplotlib inline\n",
    "import cv2\n",
    "from matplotlib import pyplot as plt\n",
    "import numpy as np\n",
    "\n",
    "bgr = cv2.imread('images/phone.jpg')\n",
    "img = cv2.cvtColor(bgr, cv2.COLOR_BGR2RGB)\n",
    "\n",
    "# 변환할 크기와 변환행렬(90도 회전)\n",
    "rows,cols,_ = bgr.shape\n",
    "M = cv2.getRotationMatrix2D((cols/2,rows/2),90,1)\n",
    "\n",
    "# 변환\n",
    "dst = cv2.warpAffine(img,M,(cols,rows))\n",
    "\n",
    "# 화면출력\n",
    "plt.figure(figsize=(8,6))\n",
    "plt.axis('off')\n",
    "plt.imshow(dst)\n",
    "plt.show()"
   ]
  },
  {
   "cell_type": "markdown",
   "metadata": {},
   "source": [
    "### 아핀변환 (Affine Transformation)\n",
    "* 두 공간 사이의 선형변환. 원본기준점에서 대상기준점으로 대응되는 확대/축소/기울기/회전등이 복합적으로 수행된 선형변환\n",
    "* `cv2.getAffineTransform`함수를 이용해서 변환행렬 생성 가능"
   ]
  },
  {
   "cell_type": "code",
   "execution_count": null,
   "metadata": {},
   "outputs": [],
   "source": [
    "%matplotlib inline\n",
    "import cv2\n",
    "from matplotlib import pyplot as plt\n",
    "import numpy as np\n",
    "\n",
    "bgr = cv2.imread('images/phone.jpg')\n",
    "img = cv2.cvtColor(bgr, cv2.COLOR_BGR2RGB)\n",
    "\n",
    "# 시작기준점 표시\n",
    "img = cv2.circle(img,(50-5,50-5), 10, (0,255,0), -1)\n",
    "img = cv2.circle(img,(200-5,50-5), 10, (255,255,0), -1)\n",
    "img = cv2.circle(img,(100-5,250-5), 10, (255,0,0), -1)\n",
    "\n",
    "# 변환할 크기와 변환행렬\n",
    "rows,cols,_ = img.shape\n",
    "pts1 = np.float32([[50,50],[200,50],[50,200]])\n",
    "pts2 = np.float32([[10,200],[200,50],[100,250]])\n",
    "M = cv2.getAffineTransform(pts1,pts2)\n",
    "\n",
    "# 변환\n",
    "dst = cv2.warpAffine(img,M,(cols,rows))\n",
    "\n",
    "# 화면출력\n",
    "fig = plt.figure(figsize=(16,6))\n",
    "ax1 = fig.add_subplot(1, 2, 1)\n",
    "ax1.axis('off'), ax1.set_title('Origin'), ax1.imshow(img)\n",
    "ax2 = fig.add_subplot(1, 2, 2)\n",
    "ax2.axis('off'), ax2.set_title('AffineTransform'), ax2.imshow(dst)\n",
    "plt.show()"
   ]
  },
  {
   "cell_type": "markdown",
   "metadata": {},
   "source": [
    "### 원근변환 (Perspective Transformation)\n",
    "* 4개의 점을 기준으로 내부의 이미지를 맞춰 변환\n",
    "* 4개의 가운데 3개의 점이 동시에 한직선안에 존재하면 안됨\n",
    "* `cv2.getPerspectiveTransform`함수를 이용해 변환행렬 생성가능\n",
    "* `cv2.warpPerspective`함수 이용해 변환 수행"
   ]
  },
  {
   "cell_type": "code",
   "execution_count": null,
   "metadata": {},
   "outputs": [],
   "source": [
    "%matplotlib inline\n",
    "import cv2\n",
    "from matplotlib import pyplot as plt\n",
    "import numpy as np\n",
    "\n",
    "bgr = cv2.imread('images/sudoku.jpg')\n",
    "img = cv2.cvtColor(bgr, cv2.COLOR_BGR2RGB)\n",
    "\n",
    "# 기준점 \n",
    "org_pts = [[140,92],[370,100],[127,336],[385,338]];\n",
    "pts1 = np.float32(org_pts)\n",
    "pts2 = np.float32([[0,0],[300,0],[0,300],[300,300]])\n",
    "\n",
    "# 시작기준점 표시\n",
    "for p in org_pts:\n",
    "    img = cv2.circle(img, tuple(p) , 5, (0,255,0), -1)\n",
    "\n",
    "# 변환행렬\n",
    "M = cv2.getPerspectiveTransform(pts1,pts2)\n",
    "\n",
    "# 변환\n",
    "dst = cv2.warpPerspective(img,M,(300,300))\n",
    "\n",
    "# 화면출력\n",
    "fig = plt.figure(figsize=(16,6))\n",
    "ax1 = fig.add_subplot(1, 2, 1)\n",
    "ax1.axis('off'), ax1.set_title('Origin'), ax1.imshow(img)\n",
    "ax2 = fig.add_subplot(1, 2, 2)\n",
    "ax2.axis('off'), ax2.set_title('PerspectiveTransform'), ax2.imshow(dst)\n",
    "plt.show()"
   ]
  },
  {
   "cell_type": "markdown",
   "metadata": {},
   "source": [
    "## 2.3 이미지 부드럽게 하기 (뭉개기)\n",
    "\n",
    "### 2D Convolution (이미지 필터)\n",
    "* low-pass filters (LPF) : 노이즈제거, 이미지 블러(blur)에 사용\n",
    "* high-pass filters (HPF) : 경계(edge)검출에 사용\n",
    "* `cv2.filter2D()`를 이용해서 5*5커널크기를 갖는 평균값 필터를 적용하면 이미지 흐리기를 할 수 있음\n",
    "$$\n",
    "M = \\frac{1}{25}\\begin{bmatrix}\n",
    "1 & 1 & 1 & 1 & 1\\\\ \n",
    "1 & 1 & 1 & 1 & 1\\\\ \n",
    "1 & 1 & 1 & 1 & 1\\\\ \n",
    "1 & 1 & 1 & 1 & 1\\\\ \n",
    "1 & 1 & 1 & 1 & 1\n",
    "\\end{bmatrix}\n",
    "$$"
   ]
  },
  {
   "cell_type": "code",
   "execution_count": null,
   "metadata": {},
   "outputs": [],
   "source": [
    "%matplotlib inline\n",
    "import cv2\n",
    "from matplotlib import pyplot as plt\n",
    "import numpy as np\n",
    "\n",
    "bgr = cv2.imread('images/phone.jpg')\n",
    "img = cv2.cvtColor(bgr, cv2.COLOR_BGR2RGB)\n",
    "\n",
    "# 5*5 커널\n",
    "kernel = np.ones((5,5),np.float32)/25\n",
    "\n",
    "# 필터적용\n",
    "dst = cv2.filter2D(img,-1,kernel)\n",
    "\n",
    "\n",
    "# 화면출력\n",
    "fig = plt.figure(figsize=(12,16))\n",
    "ax1 = fig.add_subplot(2, 1, 1)\n",
    "ax1.axis('off'), ax1.set_title('Origin'), ax1.imshow(img)\n",
    "ax2 = fig.add_subplot(2, 1, 2)\n",
    "ax2.axis('off'), ax2.set_title('Filtered'), ax2.imshow(dst)\n",
    "plt.show()"
   ]
  },
  {
   "cell_type": "markdown",
   "metadata": {},
   "source": [
    "### 이미지 블러(Blur)\n",
    "* 평균값 : `cv2.blur()` 또는 `cv2.boxFilter()` 사용\n",
    "* 가우시안 필터 : `cv2.GaussianBlur()` 사용. 필터수정을 위한 가우시안 커널을 구하려면 `cv2.getGaussianKernel()`이용 가능\n",
    "* 메디안 필터 : 커널의 평균값기준 필터. `cv2.medianBlur()`사용가능. 노이즈 첨가될 수 있음  \n",
    "* 양측 필터(Bilateral Filtering) : 엣지 주변을 부드럽게 함. `cv2.bilateralFilter()`"
   ]
  },
  {
   "cell_type": "code",
   "execution_count": null,
   "metadata": {},
   "outputs": [],
   "source": [
    "%matplotlib inline\n",
    "import cv2\n",
    "from matplotlib import pyplot as plt\n",
    "import numpy as np\n",
    "\n",
    "# 원본\n",
    "bgr = cv2.imread('images/night_road.jpg')\n",
    "img = cv2.cvtColor(bgr, cv2.COLOR_BGR2RGB)\n",
    "\n",
    "# 평균값 블러\n",
    "avg_blur = cv2.blur(img,(10,10))\n",
    "\n",
    "# 가우시안\n",
    "gau_blur = cv2.GaussianBlur(img,(5,5),0)\n",
    "\n",
    "# 메디안\n",
    "median = cv2.medianBlur(img,5)\n",
    "\n",
    "# Bilateral\n",
    "bilateral = cv2.bilateralFilter(img,9,75,75)\n",
    "\n",
    "# 화면출력\n",
    "fig = plt.figure(figsize=(15,30))\n",
    "ax1 = fig.add_subplot(3, 2, 1)\n",
    "ax1.axis('off'), ax1.set_title('Origin'), ax1.imshow(img)\n",
    "ax2 = fig.add_subplot(3, 2, 2)\n",
    "ax2.axis('off'), ax2.set_title('Average'), ax2.imshow(avg_blur)\n",
    "ax3 = fig.add_subplot(3, 2, 3)\n",
    "ax3.axis('off'), ax3.set_title('Gaussian Filter'), ax3.imshow(gau_blur)\n",
    "ax4 = fig.add_subplot(3, 2, 4)\n",
    "ax4.axis('off'), ax4.set_title('Median Filter'), ax4.imshow(median)\n",
    "ax5 = fig.add_subplot(3, 2, 5)\n",
    "ax5.axis('off'), ax5.set_title('Bilateral Filter'), ax5.imshow(bilateral)\n",
    "plt.show()"
   ]
  }
 ],
 "metadata": {
  "kernelspec": {
   "display_name": "Python 3",
   "language": "python",
   "name": "python3"
  },
  "language_info": {
   "codemirror_mode": {
    "name": "ipython",
    "version": 3
   },
   "file_extension": ".py",
   "mimetype": "text/x-python",
   "name": "python",
   "nbconvert_exporter": "python",
   "pygments_lexer": "ipython3",
   "version": "3.7.1"
  }
 },
 "nbformat": 4,
 "nbformat_minor": 2
}
