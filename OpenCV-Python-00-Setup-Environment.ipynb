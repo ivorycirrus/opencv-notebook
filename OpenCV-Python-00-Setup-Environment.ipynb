{
 "cells": [
  {
   "cell_type": "markdown",
   "metadata": {},
   "source": [
    "# 0. 개발환경 설정\n",
    "\n",
    "## OpenCV-python 설치하기\n",
    "```bash\n",
    "pip install --ignore-installed --upgrade --trusted-host pypi.org --trusted-host files.pythonhosted.org matplotlib numpy requests\n",
    "pip install --ignore-installed --upgrade --trusted-host pypi.org --trusted-host files.pythonhosted.org opencv-contrib-python\n",
    "```\n",
    "\n",
    "## 샘플 이미지 파일 다운로드\n",
    "* **Windows**\n",
    "download_image.bat 실행\n",
    "* **Linux / MacOS**\n",
    "download_image.sh 실행\n",
    "\n",
    "## [옵션] 샘플이미지 크기조정"
   ]
  },
  {
   "cell_type": "code",
   "execution_count": null,
   "metadata": {},
   "outputs": [],
   "source": [
    "import os\n",
    "import cv2\n",
    "\n",
    "MAX_WIDTH = 1280\n",
    "IMAGE_DIR = './images/'\n",
    "\n",
    "def resizeSample(fileName):\n",
    "    oriimg = cv2.imread(fileName)\n",
    "    height, width, depth = oriimg.shape\n",
    "    if(width > MAX_WIDTH):\n",
    "        imgScale = 1.0;\n",
    "        newX = oriimg.shape[1];\n",
    "        while(newX > MAX_WIDTH):\n",
    "            imgScale *= 0.5;\n",
    "            newX *= 0.5\n",
    "        newY = oriimg.shape[0]*imgScale\n",
    "        newimg = cv2.resize(oriimg,(int(newX),int(newY)))\n",
    "        cv2.imwrite(fileName, newimg)\n",
    "        \n",
    "for f in next(os.walk(IMAGE_DIR))[2]:\n",
    "    if(\".jpg\" in f):\n",
    "        print(\"Resize {0}\".format(f))\n",
    "        resizeSample(IMAGE_DIR + f)"
   ]
  }
 ],
 "metadata": {
  "kernelspec": {
   "display_name": "Python 3",
   "language": "python",
   "name": "python3"
  },
  "language_info": {
   "codemirror_mode": {
    "name": "ipython",
    "version": 3
   },
   "file_extension": ".py",
   "mimetype": "text/x-python",
   "name": "python",
   "nbconvert_exporter": "python",
   "pygments_lexer": "ipython3",
   "version": "3.7.0"
  }
 },
 "nbformat": 4,
 "nbformat_minor": 2
}
