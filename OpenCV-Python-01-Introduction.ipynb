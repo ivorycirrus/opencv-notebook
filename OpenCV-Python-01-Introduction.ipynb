{
 "cells": [
  {
   "cell_type": "markdown",
   "metadata": {},
   "source": [
    "# 1. OpenCV 시작하기\n",
    "\n",
    "## 필요한 라이브러리 불러오기"
   ]
  },
  {
   "cell_type": "code",
   "execution_count": null,
   "metadata": {},
   "outputs": [],
   "source": [
    "%matplotlib inline\n",
    "import cv2\n",
    "from matplotlib import pyplot as plt\n",
    "import numpy as np\n",
    "import time as t\n",
    "\n",
    "cv2.__version__"
   ]
  },
  {
   "cell_type": "markdown",
   "metadata": {},
   "source": [
    "## 이미지 불러와서 표시"
   ]
  },
  {
   "cell_type": "code",
   "execution_count": null,
   "metadata": {},
   "outputs": [],
   "source": [
    "PATH = 'images/green.jpg'\n",
    "image = cv2.imread(PATH)\n",
    "\n",
    "plt.figure(figsize=(10,10))\n",
    "plt.title(PATH)\n",
    "plt.axis('off')\n",
    "plt.imshow(image)\n",
    "plt.show()"
   ]
  },
  {
   "cell_type": "markdown",
   "metadata": {},
   "source": [
    "## 카메라 이미지 캡쳐 "
   ]
  },
  {
   "cell_type": "code",
   "execution_count": null,
   "metadata": {},
   "outputs": [],
   "source": [
    "## 카메라 장치 초기화\n",
    "cam = cv2.VideoCapture(0)\n",
    "\n",
    "## 프레임 가져오기\n",
    "ret, frame = cam.read()\n",
    "\n",
    "## 색 배열 변환 :: BGR --> RGB\n",
    "rgb = cv2.cvtColor(frame, cv2.COLOR_BGR2RGB)\n",
    "\n",
    "## 화면 출력\n",
    "plt.figure(figsize=(10,10))\n",
    "plt.title('usb-cam')\n",
    "plt.axis('off')\n",
    "plt.imshow(rgb)\n",
    "plt.show()\n",
    "\n",
    "## 카메라 릴리즈\n",
    "cam.release()"
   ]
  },
  {
   "cell_type": "markdown",
   "metadata": {},
   "source": [
    "## 카메라 동영상 재생\n",
    "* 키보드 인터럽스 발생시 재생중지 : ```메뉴 > Kernel > Interrupt``` 또는 ```i 키``` 두번 입력"
   ]
  },
  {
   "cell_type": "code",
   "execution_count": null,
   "metadata": {},
   "outputs": [],
   "source": [
    "## https://github.com/bikz05/ipython-notebooks/blob/master/computer-vision/displaying-video-in-ipython-notebook.ipynb\n",
    "# Import the required modules\n",
    "%pylab inline \n",
    "import cv2\n",
    "from IPython.display import clear_output\n",
    "\n",
    "# Grab the input device, in this case the webcam\n",
    "# You can also give path to the video file\n",
    "vid = cv2.VideoCapture(0)\n",
    "\n",
    "# Put the code in try-except statements\n",
    "# Catch the keyboard exception and \n",
    "# release the camera device and \n",
    "# continue with the rest of code.\n",
    "try:\n",
    "    while(True):\n",
    "        # Capture frame-by-frame\n",
    "        ret, frame = vid.read()\n",
    "        if not ret:\n",
    "            # Release the Video Device if ret is false\n",
    "            vid.release()\n",
    "            # Message to be displayed after releasing the device\n",
    "            print(\"Released Video Resource\")\n",
    "            break\n",
    "        # Convert the image from OpenCV BGR format to matplotlib RGB format\n",
    "        # to display the image\n",
    "        frame = cv2.cvtColor(frame, cv2.COLOR_BGR2RGB)\n",
    "        # Turn off the axis\n",
    "        axis('off')\n",
    "        # Title of the window\n",
    "        title(\"Input Stream\")\n",
    "        # Display the frame\n",
    "        imshow(frame)\n",
    "        show()\n",
    "        # Display the frame until new frame is available\n",
    "        clear_output(wait=True)\n",
    "except KeyboardInterrupt:\n",
    "    # Release the Video Device\n",
    "    vid.release()\n",
    "    # Message to be displayed after releasing the device\n",
    "    print(\"Released Video Resource\")"
   ]
  },
  {
   "cell_type": "markdown",
   "metadata": {},
   "source": [
    "## 도형 그리기 \n",
    "* 사용함수 : ```cv2.line(), cv2.circle() , cv2.rectangle(), cv2.ellipse(), cv2.putText()```\n",
    "* img : 화면에 그릴 도형 객체\n",
    "* color : BGR형식의 컬러는 (255, 0, 0)과 같이 표시, 흑백이미지는 스칼라값(숫자)로 표시<br/>**왜인지는 모르겟지만, opencn4-python 에서는 RGB로 처리가 되고 있는듯함**\n",
    "* thickness : 선의 두께. 폐곡선의 경우 -1의 입력하면 안에 채우기함. 기본값은 +1\n",
    "* lineType : 선 유형. [8-connected(가로/세로/대각선 단순연결)](http://www.imageprocessingplace.com/downloads_V3/root_downloads/tutorials/contour_tracing_Abeer_George_Ghuneim/connect.html) 또는 [anti-alised(경계를 부드럽게 뭉개서 연결?)](https://www.html5rocks.com/en/tutorials/internals/antialiasing-101/)함. 기본값 8-connected"
   ]
  },
  {
   "cell_type": "code",
   "execution_count": null,
   "metadata": {},
   "outputs": [],
   "source": [
    "# 배경을 검은색으로 채우고\n",
    "img = np.zeros((512,512,3), np.uint8)\n",
    "\n",
    "# 두께 5짜리 빨간색 선 그림\n",
    "# color가 RGB순서인듯!!!\n",
    "img = cv2.line(img,(0,0),(511,511),(255,0,0),5)\n",
    "\n",
    "# 두께 3짜리 초속색 선 그림\n",
    "img = cv2.rectangle(img,(384,0),(510,128),(0,255,0),3)\n",
    "\n",
    "# 속이 꽉 찬 원 그림\n",
    "img = cv2.circle(img,(447,63), 63, (0,0,255), -1)\n",
    "\n",
    "# 타원 그림\n",
    "# 중심점(256,256), 장축/단축(100,50), 도형회전(0), 시작각도(45), 끝 각도(270), 색상(255,255,0), 선 두께(-1 : 채우기)\n",
    "img = cv2.ellipse(img,(256,256),(100,50),0,45,270,(255,255,0),-1)\n",
    "\n",
    "# 다각형 그림\n",
    "# ROWS*1*2 형식의 배열로 변경해서 그림, ROW는 꼭지점(vertex) 갯수\n",
    "pts = np.array([[10,5],[120,230],[270,120],[150,10]], np.int32) \n",
    "pts = pts.reshape((-1,1,2))\n",
    "img = cv2.polylines(img,[pts],True,(0,255,255))\n",
    "\n",
    "# 텍스트 표시\n",
    "# 텍스트, 시작점(10, 500), 폰트, 글씨크기(1), 색상(255,255,255), 두께, 선유형(Antialised해줘야 텍스트가 이쁨)\n",
    "font = cv2.FONT_HERSHEY_SIMPLEX\n",
    "cv2.putText(img,'Drawing text sample 한글',(10,500), font, 1, (255,255,255), 2, cv2.LINE_AA)\n",
    "\n",
    "# 화면에 표시\n",
    "plt.figure(figsize=(10,10))\n",
    "plt.axis('off')\n",
    "plt.title('opencv drawings')\n",
    "plt.imshow(img)\n",
    "plt.show()"
   ]
  },
  {
   "cell_type": "markdown",
   "metadata": {},
   "source": [
    "## 성능측정\n",
    "* **cv2.getTickCount** : 부팅 이후 clock-cycle 수 반환\n",
    "* **cv2.getTickFrequency** : 초당 clock-cycle 수"
   ]
  },
  {
   "cell_type": "code",
   "execution_count": null,
   "metadata": {},
   "outputs": [],
   "source": [
    "%config IPCompleter.greedy=True\n",
    "PATH = 'images/green.jpg'\n",
    "image = cv2.imread(PATH)\n",
    "\n",
    "# 성능측정 시작\n",
    "e1 = cv2.getTickCount()\n",
    "\n",
    "# 블러효과 주기\n",
    "blur = cv2.blur(image,(20,20))\n",
    "\n",
    "# 성능측정 종료\n",
    "e2 = cv2.getTickCount()\n",
    "time = (e2 - e1)/ cv2.getTickFrequency()\n",
    "\n",
    "plt.figure(figsize=(10,10))\n",
    "plt.title(PATH)\n",
    "plt.axis('off')\n",
    "plt.title('blur : {}ms'.format(time))\n",
    "plt.imshow(image)\n",
    "plt.show()"
   ]
  },
  {
   "cell_type": "markdown",
   "metadata": {},
   "source": [
    "## 이미지 두개를 한화면에 표시\n",
    "* `matplotlib`의 서브플롯을 이용해 표시함\n",
    "* 서브플롯의 순서는 왼쪽 위부터 오른쪽 행방향우선으로 넘버링"
   ]
  },
  {
   "cell_type": "code",
   "execution_count": null,
   "metadata": {},
   "outputs": [],
   "source": [
    "img1 = cv2.imread('images/green.jpg')\n",
    "img2 = cv2.imread('images/phone.jpg')\n",
    "\n",
    "# 가로20 * 세로10 패널 생성 \n",
    "plt.figure()\n",
    "fig = plt.figure(figsize=(20,10))\n",
    "\n",
    "# 1행2열 서브플롯을 생성하고 첫번째 패널에 이미지 표시\n",
    "ax1 = fig.add_subplot(1, 2, 1)\n",
    "ax1.axis('off')\n",
    "ax1.imshow(img1)\n",
    "\n",
    "# 1행2열 서브플롯을 생성하고 두번째 패널에 이미지 표시\n",
    "ax2 = fig.add_subplot(1, 2, 2)\n",
    "ax2.axis('off')\n",
    "ax2.imshow(img2)\n",
    "\n",
    "plt.show()"
   ]
  }
 ],
 "metadata": {
  "kernelspec": {
   "display_name": "Python 3",
   "language": "python",
   "name": "python3"
  },
  "language_info": {
   "codemirror_mode": {
    "name": "ipython",
    "version": 3
   },
   "file_extension": ".py",
   "mimetype": "text/x-python",
   "name": "python",
   "nbconvert_exporter": "python",
   "pygments_lexer": "ipython3",
   "version": "3.7.1"
  }
 },
 "nbformat": 4,
 "nbformat_minor": 2
}
